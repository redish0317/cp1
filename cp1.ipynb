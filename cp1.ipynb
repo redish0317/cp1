{
  "nbformat": 4,
  "nbformat_minor": 0,
  "metadata": {
    "colab": {
      "name": "cp1.ipynb",
      "provenance": [],
      "collapsed_sections": [],
      "authorship_tag": "ABX9TyMbQx1WmC/OrJjCAD/dVhGL",
      "include_colab_link": true
    },
    "kernelspec": {
      "name": "python3",
      "display_name": "Python 3"
    },
    "language_info": {
      "name": "python"
    }
  },
  "cells": [
    {
      "cell_type": "markdown",
      "metadata": {
        "id": "view-in-github",
        "colab_type": "text"
      },
      "source": [
        "<a href=\"https://colab.research.google.com/github/redish0317/cp1/blob/main/cp1.ipynb\" target=\"_parent\"><img src=\"https://colab.research.google.com/assets/colab-badge.svg\" alt=\"Open In Colab\"/></a>"
      ]
    },
    {
      "cell_type": "code",
      "execution_count": 3,
      "metadata": {
        "id": "ZTyq16xUAK3I"
      },
      "outputs": [],
      "source": [
        "import requests\n",
        "from bs4 import BeautifulSoup\n",
        "import numpy as np\n",
        "import pandas as pd\n",
        "import warnings\n",
        "warnings.simplefilter(action='ignore', category=FutureWarning)"
      ]
    },
    {
      "cell_type": "code",
      "source": [
        "def crawl_id():\n",
        "    url = 'http://www.wanted.jobs/api/v4/jobs?'\n",
        "\n",
        "    params ={1656232918453:'',    #사용자번호?\n",
        "    'country': 'all',\n",
        "    'tag_type_ids': 873,    #직무 카테고리 고유 id\n",
        "    'job_sort': 'job.latest_order',    #최신순 정렬\n",
        "    'locations': all,\n",
        "    'years': -1,    #경력 이상\n",
        "    'years': -1,    #경력 이하    경력상관없이 검색하려면 -1\n",
        "    'limit': 100,    #한 번에 조회 가능한 수 (최대100)\n",
        "    'offset': 100}    #조회할 게시물의 첫 index        ex) limit=100 offset=10  => 10번게시물부터 110번게시물까지 크롤링\n",
        "\n",
        "    r = requests.get(url,\n",
        "                     params = params)\n",
        "    r = r.json()\n",
        "    df = pd.json_normalize(r['data'])\n",
        "    return df\n",
        "\n",
        "\n",
        "def crawl_job(id_list):\n",
        "    df = pd.DataFrame()\n",
        "    for id in id_list:\n",
        "        url = f'https://www.wanted.jobs/api/v4/jobs/{id}?1656259528432'\n",
        "        r = requests.get(url)\n",
        "        r = r.json()['job']\n",
        "        df = pd.concat([df,pd.json_normalize(r)],axis=0)\n",
        "    return df.reset_index(drop=True)\n",
        "\n",
        "\n",
        "def engineering(df):\n",
        "    #사용하지 않을 컬럼 drop\n",
        "    drop_col = ['is_crossboarder','like_count','is_like','score','company_images','status','is_bookmark','is_company_follow',\n",
        "            'compare_country','matching_score','short_link','position','address.geo_location.n_location.address','address.geo_location.location.lat','address.geo_location.location.lng','address.geo_location.viewport.northeast.lat',\n",
        "            'address.geo_location.viewport.northeast.lng','address.geo_location.viewport.southwest.lat','address.geo_location.viewport.southwest.lng','address.geo_location.bounds','detail.intro','detail.benefits','company.id','company.application_response_stats.level',\n",
        "            'company.application_response_stats.delayed_count','company.application_response_stats.remained_count', 'company.application_response_stats.type', 'company.name', 'logo_img.origin', 'logo_img.thumb', 'title_img.origin', 'title_img.thumb', 'reward.formatted_total', 'reward.formatted_recommender', 'reward.formatted_recommendee', 'address.geo_location.bounds.northeast.lat', 'address.geo_location.bounds.northeast.lng', 'address.geo_location.bounds.southwest.lat', 'address.geo_location.bounds.southwest.lng', 'address.geo_location']\n",
        "    df = df.drop(drop_col,axis=1).iloc[:,1:]\n",
        "\n",
        "    #skill_tags 비어있는 행 제거\n",
        "    df = df.loc[df['skill_tags'].apply(lambda x :  x !='[]')]\n",
        "\n",
        "\n",
        "    return df.reset_index(drop=True)\n"
      ],
      "metadata": {
        "id": "U4JwVd4Jc_hW"
      },
      "execution_count": 92,
      "outputs": []
    },
    {
      "cell_type": "code",
      "source": [
        "df_id = crawl_id()\n",
        "\n",
        "df_job = crawl_job(df_id['id'])\n",
        "\n",
        "df = pd.concat([df_id,df_job],axis=1)\n",
        "\n",
        "#df = engineering(df)\n",
        "\n",
        "df.head()"
      ],
      "metadata": {
        "colab": {
          "base_uri": "https://localhost:8080/",
          "height": 412
        },
        "id": "6EBYpS6xpZaF",
        "outputId": "703e148a-f918-46c9-b20b-77f1308e42f4"
      },
      "execution_count": 30,
      "outputs": [
        {
          "output_type": "execute_result",
          "data": {
            "text/plain": [
              "   status  is_like  is_bookmark  compare_country    due_time  like_count  \\\n",
              "0  active    False        False             True        None          19   \n",
              "1  active    False        False             True        None          13   \n",
              "2  active    False        False             True        None          42   \n",
              "3  active    False        False             True  2022-07-07           0   \n",
              "4  active    False        False             True  2022-07-07           0   \n",
              "\n",
              "       id matching_score              position score  ...  \\\n",
              "0   66372           None  Java Spring Engineer  None  ...   \n",
              "1   67155           None      Laravel Engineer  None  ...   \n",
              "2   66379           None      Node.js Engineer  None  ...   \n",
              "3  115798           None       파우더룸 백엔드 서비스 개발  None  ...   \n",
              "4  115796           None     파우더룸 프론트엔드 서비스 개발  None  ...   \n",
              "\n",
              "                                      logo_img.thumb  \\\n",
              "0  https://static.wanted.co.kr/images/wdes/0_5.21...   \n",
              "1  https://static.wanted.co.kr/images/wdes/0_5.21...   \n",
              "2  https://static.wanted.co.kr/images/wdes/0_5.21...   \n",
              "3  https://static.wanted.co.kr/images/wdes/0_5.5d...   \n",
              "4  https://static.wanted.co.kr/images/wdes/0_5.5d...   \n",
              "\n",
              "                                    title_img.origin  \\\n",
              "0  https://static.wanted.co.kr/images/company/178...   \n",
              "1  https://static.wanted.co.kr/images/company/178...   \n",
              "2  https://static.wanted.co.kr/images/company/178...   \n",
              "3  https://static.wanted.co.kr/images/company/155...   \n",
              "4  https://static.wanted.co.kr/images/company/155...   \n",
              "\n",
              "                                     title_img.thumb reward.formatted_total  \\\n",
              "0  https://static.wanted.co.kr/images/company/178...             ￦1,000,000   \n",
              "1  https://static.wanted.co.kr/images/company/178...             ￦1,000,000   \n",
              "2  https://static.wanted.co.kr/images/company/178...             ￦1,000,000   \n",
              "3  https://static.wanted.co.kr/images/company/155...             ￦1,000,000   \n",
              "4  https://static.wanted.co.kr/images/company/155...             ￦1,000,000   \n",
              "\n",
              "   reward.formatted_recommender reward.formatted_recommendee  \\\n",
              "0                      ￦500,000                     ￦500,000   \n",
              "1                      ￦500,000                     ￦500,000   \n",
              "2                      ￦500,000                     ￦500,000   \n",
              "3                      ￦500,000                     ￦500,000   \n",
              "4                      ￦500,000                     ￦500,000   \n",
              "\n",
              "   address.geo_location.bounds.northeast.lat  \\\n",
              "0                                        NaN   \n",
              "1                                        NaN   \n",
              "2                                        NaN   \n",
              "3                                        NaN   \n",
              "4                                        NaN   \n",
              "\n",
              "  address.geo_location.bounds.northeast.lng  \\\n",
              "0                                       NaN   \n",
              "1                                       NaN   \n",
              "2                                       NaN   \n",
              "3                                       NaN   \n",
              "4                                       NaN   \n",
              "\n",
              "   address.geo_location.bounds.southwest.lat  \\\n",
              "0                                        NaN   \n",
              "1                                        NaN   \n",
              "2                                        NaN   \n",
              "3                                        NaN   \n",
              "4                                        NaN   \n",
              "\n",
              "   address.geo_location.bounds.southwest.lng  \n",
              "0                                        NaN  \n",
              "1                                        NaN  \n",
              "2                                        NaN  \n",
              "3                                        NaN  \n",
              "4                                        NaN  \n",
              "\n",
              "[5 rows x 86 columns]"
            ],
            "text/html": [
              "<div>\n",
              "<style scoped>\n",
              "    .dataframe tbody tr th:only-of-type {\n",
              "        vertical-align: middle;\n",
              "    }\n",
              "\n",
              "    .dataframe tbody tr th {\n",
              "        vertical-align: top;\n",
              "    }\n",
              "\n",
              "    .dataframe thead th {\n",
              "        text-align: right;\n",
              "    }\n",
              "</style>\n",
              "<table border=\"1\" class=\"dataframe\">\n",
              "  <thead>\n",
              "    <tr style=\"text-align: right;\">\n",
              "      <th></th>\n",
              "      <th>status</th>\n",
              "      <th>is_like</th>\n",
              "      <th>is_bookmark</th>\n",
              "      <th>compare_country</th>\n",
              "      <th>due_time</th>\n",
              "      <th>like_count</th>\n",
              "      <th>id</th>\n",
              "      <th>matching_score</th>\n",
              "      <th>position</th>\n",
              "      <th>score</th>\n",
              "      <th>...</th>\n",
              "      <th>logo_img.thumb</th>\n",
              "      <th>title_img.origin</th>\n",
              "      <th>title_img.thumb</th>\n",
              "      <th>reward.formatted_total</th>\n",
              "      <th>reward.formatted_recommender</th>\n",
              "      <th>reward.formatted_recommendee</th>\n",
              "      <th>address.geo_location.bounds.northeast.lat</th>\n",
              "      <th>address.geo_location.bounds.northeast.lng</th>\n",
              "      <th>address.geo_location.bounds.southwest.lat</th>\n",
              "      <th>address.geo_location.bounds.southwest.lng</th>\n",
              "    </tr>\n",
              "  </thead>\n",
              "  <tbody>\n",
              "    <tr>\n",
              "      <th>0</th>\n",
              "      <td>active</td>\n",
              "      <td>False</td>\n",
              "      <td>False</td>\n",
              "      <td>True</td>\n",
              "      <td>None</td>\n",
              "      <td>19</td>\n",
              "      <td>66372</td>\n",
              "      <td>None</td>\n",
              "      <td>Java Spring Engineer</td>\n",
              "      <td>None</td>\n",
              "      <td>...</td>\n",
              "      <td>https://static.wanted.co.kr/images/wdes/0_5.21...</td>\n",
              "      <td>https://static.wanted.co.kr/images/company/178...</td>\n",
              "      <td>https://static.wanted.co.kr/images/company/178...</td>\n",
              "      <td>￦1,000,000</td>\n",
              "      <td>￦500,000</td>\n",
              "      <td>￦500,000</td>\n",
              "      <td>NaN</td>\n",
              "      <td>NaN</td>\n",
              "      <td>NaN</td>\n",
              "      <td>NaN</td>\n",
              "    </tr>\n",
              "    <tr>\n",
              "      <th>1</th>\n",
              "      <td>active</td>\n",
              "      <td>False</td>\n",
              "      <td>False</td>\n",
              "      <td>True</td>\n",
              "      <td>None</td>\n",
              "      <td>13</td>\n",
              "      <td>67155</td>\n",
              "      <td>None</td>\n",
              "      <td>Laravel Engineer</td>\n",
              "      <td>None</td>\n",
              "      <td>...</td>\n",
              "      <td>https://static.wanted.co.kr/images/wdes/0_5.21...</td>\n",
              "      <td>https://static.wanted.co.kr/images/company/178...</td>\n",
              "      <td>https://static.wanted.co.kr/images/company/178...</td>\n",
              "      <td>￦1,000,000</td>\n",
              "      <td>￦500,000</td>\n",
              "      <td>￦500,000</td>\n",
              "      <td>NaN</td>\n",
              "      <td>NaN</td>\n",
              "      <td>NaN</td>\n",
              "      <td>NaN</td>\n",
              "    </tr>\n",
              "    <tr>\n",
              "      <th>2</th>\n",
              "      <td>active</td>\n",
              "      <td>False</td>\n",
              "      <td>False</td>\n",
              "      <td>True</td>\n",
              "      <td>None</td>\n",
              "      <td>42</td>\n",
              "      <td>66379</td>\n",
              "      <td>None</td>\n",
              "      <td>Node.js Engineer</td>\n",
              "      <td>None</td>\n",
              "      <td>...</td>\n",
              "      <td>https://static.wanted.co.kr/images/wdes/0_5.21...</td>\n",
              "      <td>https://static.wanted.co.kr/images/company/178...</td>\n",
              "      <td>https://static.wanted.co.kr/images/company/178...</td>\n",
              "      <td>￦1,000,000</td>\n",
              "      <td>￦500,000</td>\n",
              "      <td>￦500,000</td>\n",
              "      <td>NaN</td>\n",
              "      <td>NaN</td>\n",
              "      <td>NaN</td>\n",
              "      <td>NaN</td>\n",
              "    </tr>\n",
              "    <tr>\n",
              "      <th>3</th>\n",
              "      <td>active</td>\n",
              "      <td>False</td>\n",
              "      <td>False</td>\n",
              "      <td>True</td>\n",
              "      <td>2022-07-07</td>\n",
              "      <td>0</td>\n",
              "      <td>115798</td>\n",
              "      <td>None</td>\n",
              "      <td>파우더룸 백엔드 서비스 개발</td>\n",
              "      <td>None</td>\n",
              "      <td>...</td>\n",
              "      <td>https://static.wanted.co.kr/images/wdes/0_5.5d...</td>\n",
              "      <td>https://static.wanted.co.kr/images/company/155...</td>\n",
              "      <td>https://static.wanted.co.kr/images/company/155...</td>\n",
              "      <td>￦1,000,000</td>\n",
              "      <td>￦500,000</td>\n",
              "      <td>￦500,000</td>\n",
              "      <td>NaN</td>\n",
              "      <td>NaN</td>\n",
              "      <td>NaN</td>\n",
              "      <td>NaN</td>\n",
              "    </tr>\n",
              "    <tr>\n",
              "      <th>4</th>\n",
              "      <td>active</td>\n",
              "      <td>False</td>\n",
              "      <td>False</td>\n",
              "      <td>True</td>\n",
              "      <td>2022-07-07</td>\n",
              "      <td>0</td>\n",
              "      <td>115796</td>\n",
              "      <td>None</td>\n",
              "      <td>파우더룸 프론트엔드 서비스 개발</td>\n",
              "      <td>None</td>\n",
              "      <td>...</td>\n",
              "      <td>https://static.wanted.co.kr/images/wdes/0_5.5d...</td>\n",
              "      <td>https://static.wanted.co.kr/images/company/155...</td>\n",
              "      <td>https://static.wanted.co.kr/images/company/155...</td>\n",
              "      <td>￦1,000,000</td>\n",
              "      <td>￦500,000</td>\n",
              "      <td>￦500,000</td>\n",
              "      <td>NaN</td>\n",
              "      <td>NaN</td>\n",
              "      <td>NaN</td>\n",
              "      <td>NaN</td>\n",
              "    </tr>\n",
              "  </tbody>\n",
              "</table>\n",
              "<p>5 rows × 86 columns</p>\n",
              "</div>"
            ]
          },
          "metadata": {},
          "execution_count": 30
        }
      ]
    },
    {
      "cell_type": "code",
      "source": [
        "df.to_excel('wanted.xlsx')"
      ],
      "metadata": {
        "id": "pKVxOi_0tIvJ"
      },
      "execution_count": null,
      "outputs": []
    },
    {
      "cell_type": "markdown",
      "source": [
        "#폐기"
      ],
      "metadata": {
        "id": "cVQ7T2ormm5U"
      }
    },
    {
      "cell_type": "code",
      "source": [
        "def make_soup(url):\n",
        "    response = requests.get(url)\n",
        "    html = response.text\n",
        "    soup = BeautifulSoup(html, 'html.parser')\n",
        "    return soup\n",
        "url = 'https://www.wanted.jobs/wd/109904'\n",
        "\n",
        "soup = str(make_soup(url))\n",
        "\n",
        "url_list = ['https://www.wanted.jobs/wd/'+ str(i) for i in df['id']]\n",
        "\n",
        "#서론\n",
        "Introduction = soup[soup.find('\"jd\":\"') + 6 : soup.find('\\\\n\\\\n\\\\n주요업무\\\\n')]\n",
        "\n",
        "#주요업무, 책임\n",
        "responsibilities = soup[soup.find('\\\\n\\\\n\\\\n주요업무\\\\n') + 12 : soup.find('\\\\n\\\\n자격요건\\\\n')]\n",
        "\n",
        "#요구자격\n",
        "basic_qualifications = soup[soup.find('\\\\n\\\\n자격요건\\\\n') + 12 : soup.find('\\\\n\\\\n우대사항\\\\n')]\n",
        "\n",
        "#우대자격\n",
        "preferred_qualifications = soup[soup.find('\\\\n\\\\n우대사항\\\\n') + 10 : soup.find('\\\\n\\\\n혜택 및 복지\\\\n###')]\n",
        "\n",
        "#복지\n",
        "company_benefits = soup[soup.find('\\\\n\\\\n혜택 및 복지\\\\n###') + 16 : soup.find('\",\"company_name\":\"')]\n",
        "\n",
        "pd.DataFrame({'Introduction':Introduction,\n",
        "              'responsibilities':responsibilities,\n",
        "              'basic_qualifications':basic_qualifications,\n",
        "              'preferred_qualifications':preferred_qualifications,\n",
        "              'company_benefits':company_benefits},index=[0])"
      ],
      "metadata": {
        "colab": {
          "base_uri": "https://localhost:8080/",
          "height": 142
        },
        "id": "s4wiKCu5dFQo",
        "outputId": "5c203b1f-8804-4f3f-f6f1-306878fb83fc"
      },
      "execution_count": null,
      "outputs": [
        {
          "output_type": "execute_result",
          "data": {
            "text/plain": [
              "                                        Introduction  \\\n",
              "0  빌리오(BIllyo)\\n#크리에이터의 고민 해결!\\n콘텐츠 제작 커뮤니티, ‘빌리오...   \n",
              "\n",
              "                                    responsibilities  \\\n",
              "0  [주요 업무]\\n- 빌리오(Billyo) 모바일 서비스를 위한 API 개발 및 유지...   \n",
              "\n",
              "                                basic_qualifications  \\\n",
              "0  Python 기반 Restful API 설계 및 구현 경험이 3년 이상 있으시거나 ...   \n",
              "\n",
              "                            preferred_qualifications  \\\n",
              "0  - O2O 플랫폼 비즈니스에 대한 흥미와 관심이 있는 분\\n- 크리에이터 시장에 관...   \n",
              "\n",
              "                                    company_benefits  \n",
              "0   이런 게 좋아요!\\n빌리오 팀원들은 함께하는 동료를 소중히 여기며, 함께 성장하면...  "
            ],
            "text/html": [
              "\n",
              "  <div id=\"df-c7dc7d4e-041b-437c-99af-0d03ec54912c\">\n",
              "    <div class=\"colab-df-container\">\n",
              "      <div>\n",
              "<style scoped>\n",
              "    .dataframe tbody tr th:only-of-type {\n",
              "        vertical-align: middle;\n",
              "    }\n",
              "\n",
              "    .dataframe tbody tr th {\n",
              "        vertical-align: top;\n",
              "    }\n",
              "\n",
              "    .dataframe thead th {\n",
              "        text-align: right;\n",
              "    }\n",
              "</style>\n",
              "<table border=\"1\" class=\"dataframe\">\n",
              "  <thead>\n",
              "    <tr style=\"text-align: right;\">\n",
              "      <th></th>\n",
              "      <th>Introduction</th>\n",
              "      <th>responsibilities</th>\n",
              "      <th>basic_qualifications</th>\n",
              "      <th>preferred_qualifications</th>\n",
              "      <th>company_benefits</th>\n",
              "    </tr>\n",
              "  </thead>\n",
              "  <tbody>\n",
              "    <tr>\n",
              "      <th>0</th>\n",
              "      <td>빌리오(BIllyo)\\n#크리에이터의 고민 해결!\\n콘텐츠 제작 커뮤니티, ‘빌리오...</td>\n",
              "      <td>[주요 업무]\\n- 빌리오(Billyo) 모바일 서비스를 위한 API 개발 및 유지...</td>\n",
              "      <td>Python 기반 Restful API 설계 및 구현 경험이 3년 이상 있으시거나 ...</td>\n",
              "      <td>- O2O 플랫폼 비즈니스에 대한 흥미와 관심이 있는 분\\n- 크리에이터 시장에 관...</td>\n",
              "      <td>이런 게 좋아요!\\n빌리오 팀원들은 함께하는 동료를 소중히 여기며, 함께 성장하면...</td>\n",
              "    </tr>\n",
              "  </tbody>\n",
              "</table>\n",
              "</div>\n",
              "      <button class=\"colab-df-convert\" onclick=\"convertToInteractive('df-c7dc7d4e-041b-437c-99af-0d03ec54912c')\"\n",
              "              title=\"Convert this dataframe to an interactive table.\"\n",
              "              style=\"display:none;\">\n",
              "        \n",
              "  <svg xmlns=\"http://www.w3.org/2000/svg\" height=\"24px\"viewBox=\"0 0 24 24\"\n",
              "       width=\"24px\">\n",
              "    <path d=\"M0 0h24v24H0V0z\" fill=\"none\"/>\n",
              "    <path d=\"M18.56 5.44l.94 2.06.94-2.06 2.06-.94-2.06-.94-.94-2.06-.94 2.06-2.06.94zm-11 1L8.5 8.5l.94-2.06 2.06-.94-2.06-.94L8.5 2.5l-.94 2.06-2.06.94zm10 10l.94 2.06.94-2.06 2.06-.94-2.06-.94-.94-2.06-.94 2.06-2.06.94z\"/><path d=\"M17.41 7.96l-1.37-1.37c-.4-.4-.92-.59-1.43-.59-.52 0-1.04.2-1.43.59L10.3 9.45l-7.72 7.72c-.78.78-.78 2.05 0 2.83L4 21.41c.39.39.9.59 1.41.59.51 0 1.02-.2 1.41-.59l7.78-7.78 2.81-2.81c.8-.78.8-2.07 0-2.86zM5.41 20L4 18.59l7.72-7.72 1.47 1.35L5.41 20z\"/>\n",
              "  </svg>\n",
              "      </button>\n",
              "      \n",
              "  <style>\n",
              "    .colab-df-container {\n",
              "      display:flex;\n",
              "      flex-wrap:wrap;\n",
              "      gap: 12px;\n",
              "    }\n",
              "\n",
              "    .colab-df-convert {\n",
              "      background-color: #E8F0FE;\n",
              "      border: none;\n",
              "      border-radius: 50%;\n",
              "      cursor: pointer;\n",
              "      display: none;\n",
              "      fill: #1967D2;\n",
              "      height: 32px;\n",
              "      padding: 0 0 0 0;\n",
              "      width: 32px;\n",
              "    }\n",
              "\n",
              "    .colab-df-convert:hover {\n",
              "      background-color: #E2EBFA;\n",
              "      box-shadow: 0px 1px 2px rgba(60, 64, 67, 0.3), 0px 1px 3px 1px rgba(60, 64, 67, 0.15);\n",
              "      fill: #174EA6;\n",
              "    }\n",
              "\n",
              "    [theme=dark] .colab-df-convert {\n",
              "      background-color: #3B4455;\n",
              "      fill: #D2E3FC;\n",
              "    }\n",
              "\n",
              "    [theme=dark] .colab-df-convert:hover {\n",
              "      background-color: #434B5C;\n",
              "      box-shadow: 0px 1px 3px 1px rgba(0, 0, 0, 0.15);\n",
              "      filter: drop-shadow(0px 1px 2px rgba(0, 0, 0, 0.3));\n",
              "      fill: #FFFFFF;\n",
              "    }\n",
              "  </style>\n",
              "\n",
              "      <script>\n",
              "        const buttonEl =\n",
              "          document.querySelector('#df-c7dc7d4e-041b-437c-99af-0d03ec54912c button.colab-df-convert');\n",
              "        buttonEl.style.display =\n",
              "          google.colab.kernel.accessAllowed ? 'block' : 'none';\n",
              "\n",
              "        async function convertToInteractive(key) {\n",
              "          const element = document.querySelector('#df-c7dc7d4e-041b-437c-99af-0d03ec54912c');\n",
              "          const dataTable =\n",
              "            await google.colab.kernel.invokeFunction('convertToInteractive',\n",
              "                                                     [key], {});\n",
              "          if (!dataTable) return;\n",
              "\n",
              "          const docLinkHtml = 'Like what you see? Visit the ' +\n",
              "            '<a target=\"_blank\" href=https://colab.research.google.com/notebooks/data_table.ipynb>data table notebook</a>'\n",
              "            + ' to learn more about interactive tables.';\n",
              "          element.innerHTML = '';\n",
              "          dataTable['output_type'] = 'display_data';\n",
              "          await google.colab.output.renderOutput(dataTable, element);\n",
              "          const docLink = document.createElement('div');\n",
              "          docLink.innerHTML = docLinkHtml;\n",
              "          element.appendChild(docLink);\n",
              "        }\n",
              "      </script>\n",
              "    </div>\n",
              "  </div>\n",
              "  "
            ]
          },
          "metadata": {},
          "execution_count": 204
        }
      ]
    },
    {
      "cell_type": "markdown",
      "source": [
        "#EDA"
      ],
      "metadata": {
        "id": "G_LezU6Oy3sc"
      }
    },
    {
      "cell_type": "code",
      "source": [
        "import matplotlib.pyplot as plt"
      ],
      "metadata": {
        "id": "iYTO9iNwzbKo"
      },
      "execution_count": 10,
      "outputs": []
    },
    {
      "cell_type": "code",
      "source": [
        "from google.colab import drive\n",
        "drive.mount('concent')"
      ],
      "metadata": {
        "id": "jzxqV7lJ4wKY",
        "colab": {
          "base_uri": "https://localhost:8080/"
        },
        "outputId": "6d751cd8-de13-4137-83ba-45925c0a01fe"
      },
      "execution_count": 1,
      "outputs": [
        {
          "output_type": "stream",
          "name": "stdout",
          "text": [
            "Mounted at concent\n"
          ]
        }
      ]
    },
    {
      "cell_type": "code",
      "source": [
        "df = pd.read_csv('/content/concent/MyDrive/data/wanted.csv')\n",
        "df = engineering(df)"
      ],
      "metadata": {
        "id": "GtfLDNzZyoT4"
      },
      "execution_count": 95,
      "outputs": []
    },
    {
      "cell_type": "code",
      "source": [
        "df.info()"
      ],
      "metadata": {
        "id": "Ofso-peMqyj3",
        "outputId": "1324cbb8-304d-4d13-aa94-2584a1f0f0cc",
        "colab": {
          "base_uri": "https://localhost:8080/"
        }
      },
      "execution_count": 97,
      "outputs": [
        {
          "output_type": "stream",
          "name": "stdout",
          "text": [
            "<class 'pandas.core.frame.DataFrame'>\n",
            "RangeIndex: 1751 entries, 0 to 1750\n",
            "Data columns (total 18 columns):\n",
            " #   Column                                       Non-Null Count  Dtype  \n",
            "---  ------                                       --------------  -----  \n",
            " 0   id                                           1751 non-null   int64  \n",
            " 1   due_time                                     481 non-null    object \n",
            " 2   skill_tags                                   1751 non-null   object \n",
            " 3   company_tags                                 1751 non-null   object \n",
            " 4   category_tags                                1751 non-null   object \n",
            " 5   address.country                              1751 non-null   object \n",
            " 6   address.full_location                        1746 non-null   object \n",
            " 7   address.geo_location.n_location.lat          1536 non-null   float64\n",
            " 8   address.geo_location.n_location.lng          1536 non-null   float64\n",
            " 9   address.geo_location.location_type           1735 non-null   object \n",
            " 10  address.location                             1750 non-null   object \n",
            " 11  address.country_code                         1751 non-null   object \n",
            " 12  detail.requirements                          1748 non-null   object \n",
            " 13  detail.main_tasks                            1750 non-null   object \n",
            " 14  detail.preferred_points                      1723 non-null   object \n",
            " 15  company.industry_name                        1751 non-null   object \n",
            " 16  company.application_response_stats.avg_rate  1751 non-null   float64\n",
            " 17  company.application_response_stats.avg_day   1732 non-null   float64\n",
            "dtypes: float64(4), int64(1), object(13)\n",
            "memory usage: 246.4+ KB\n"
          ]
        }
      ]
    },
    {
      "cell_type": "code",
      "source": [
        "df['company.application_response_stats.avg_rate'].describe()"
      ],
      "metadata": {
        "id": "DzC363dUyz6R",
        "outputId": "16767238-d851-47ae-ebbf-307cd4df27f6",
        "colab": {
          "base_uri": "https://localhost:8080/"
        }
      },
      "execution_count": 37,
      "outputs": [
        {
          "output_type": "execute_result",
          "data": {
            "text/plain": [
              "count    2077.000000\n",
              "mean       79.046509\n",
              "std        23.624639\n",
              "min         0.000000\n",
              "25%        73.600000\n",
              "50%        87.500000\n",
              "75%        94.100000\n",
              "max       100.000000\n",
              "Name: company.application_response_stats.avg_rate, dtype: float64"
            ]
          },
          "metadata": {},
          "execution_count": 37
        }
      ]
    },
    {
      "cell_type": "code",
      "source": [
        "df['company.application_response_stats.avg_rate'].sort_values().plot.bar()"
      ],
      "metadata": {
        "id": "OhLbEmp8zW82",
        "outputId": "3e9d2b07-daba-44bf-efd9-039288ff3725",
        "colab": {
          "base_uri": "https://localhost:8080/",
          "height": 299
        }
      },
      "execution_count": 38,
      "outputs": [
        {
          "output_type": "execute_result",
          "data": {
            "text/plain": [
              "<matplotlib.axes._subplots.AxesSubplot at 0x7f4cd0e63190>"
            ]
          },
          "metadata": {},
          "execution_count": 38
        },
        {
          "output_type": "display_data",
          "data": {
            "text/plain": [
              "<Figure size 432x288 with 1 Axes>"
            ],
            "image/png": "[encoded data removed]"
          },
          "metadata": {
            "needs_background": "light"
          }
        }
      ]
    },
    {
      "cell_type": "code",
      "source": [
        "df['address.country'].value_counts(normalize=True)"
      ],
      "metadata": {
        "id": "tKw_3KEt0B84",
        "outputId": "a0f15fd4-5230-4905-bd6b-e87fb6f5c4c7",
        "colab": {
          "base_uri": "https://localhost:8080/"
        }
      },
      "execution_count": 42,
      "outputs": [
        {
          "output_type": "execute_result",
          "data": {
            "text/plain": [
              "Korea        0.980260\n",
              "Japan        0.010592\n",
              "Taiwan       0.007703\n",
              "Singapore    0.000963\n",
              "Other        0.000481\n",
              "Name: address.country, dtype: float64"
            ]
          },
          "metadata": {},
          "execution_count": 42
        }
      ]
    },
    {
      "cell_type": "code",
      "source": [
        "df['company.application_response_stats.avg_rate'].isnull().sum()"
      ],
      "metadata": {
        "id": "kFJ0ftoY0wbh",
        "outputId": "8b241a2e-e1fb-43a9-c3a2-7fbe6b4ed496",
        "colab": {
          "base_uri": "https://localhost:8080/"
        }
      },
      "execution_count": 36,
      "outputs": [
        {
          "output_type": "execute_result",
          "data": {
            "text/plain": [
              "0"
            ]
          },
          "metadata": {},
          "execution_count": 36
        }
      ]
    },
    {
      "cell_type": "code",
      "source": [
        "df['skill_tags']"
      ],
      "metadata": {
        "id": "kCJnNAJ2go_P",
        "outputId": "e9a97302-b569-4b8b-cae4-6b873d8c79de",
        "colab": {
          "base_uri": "https://localhost:8080/"
        }
      },
      "execution_count": 71,
      "outputs": [
        {
          "output_type": "execute_result",
          "data": {
            "text/plain": [
              "0       [{'title': 'MongoDB', 'id': 1462, 'kind_title'...\n",
              "1       [{'title': 'Android', 'id': 1438, 'kind_title'...\n",
              "2       [{'title': 'Android', 'id': 1438, 'kind_title'...\n",
              "3       [{'title': 'iOS', 'id': 1457, 'kind_title': 'S...\n",
              "4       [{'title': 'Git', 'id': 1411, 'kind_title': 'S...\n",
              "                              ...                        \n",
              "2072                                                   []\n",
              "2073                                                   []\n",
              "2074                                                   []\n",
              "2075                                                   []\n",
              "2076                                                   []\n",
              "Name: skill_tags, Length: 2077, dtype: object"
            ]
          },
          "metadata": {},
          "execution_count": 71
        }
      ]
    },
    {
      "cell_type": "code",
      "source": [
        "df['skill_tags'].apply(lambda x :  x !='[]')"
      ],
      "metadata": {
        "id": "B-Zi974YgOvm",
        "outputId": "76f34219-031e-4859-8c46-d33db4cffed5",
        "colab": {
          "base_uri": "https://localhost:8080/"
        }
      },
      "execution_count": 87,
      "outputs": [
        {
          "output_type": "execute_result",
          "data": {
            "text/plain": [
              "0        True\n",
              "1        True\n",
              "2        True\n",
              "3        True\n",
              "4        True\n",
              "        ...  \n",
              "2072    False\n",
              "2073    False\n",
              "2074    False\n",
              "2075    False\n",
              "2076    False\n",
              "Name: skill_tags, Length: 2077, dtype: bool"
            ]
          },
          "metadata": {},
          "execution_count": 87
        }
      ]
    }
  ]
}