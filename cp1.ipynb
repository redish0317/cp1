{
  "nbformat": 4,
  "nbformat_minor": 0,
  "metadata": {
    "colab": {
      "name": "cp1.ipynb",
      "provenance": [],
      "collapsed_sections": [],
      "authorship_tag": "ABX9TyOMD2f67mUlcjMRS9xiLPY1",
      "include_colab_link": true
    },
    "kernelspec": {
      "name": "python3",
      "display_name": "Python 3"
    },
    "language_info": {
      "name": "python"
    }
  },
  "cells": [
    {
      "cell_type": "markdown",
      "metadata": {
        "id": "view-in-github",
        "colab_type": "text"
      },
      "source": [
        "<a href=\"https://colab.research.google.com/github/redish0317/cp1/blob/main/cp1.ipynb\" target=\"_parent\"><img src=\"https://colab.research.google.com/assets/colab-badge.svg\" alt=\"Open In Colab\"/></a>"
      ]
    },
    {
      "cell_type": "code",
      "execution_count": 1,
      "metadata": {
        "id": "ZTyq16xUAK3I"
      },
      "outputs": [],
      "source": [
        "import requests\n",
        "from bs4 import BeautifulSoup\n",
        "import numpy as np\n",
        "import pandas as pd\n",
        "import warnings\n",
        "warnings.simplefilter(action='ignore', category=FutureWarning)"
      ]
    },
    {
      "cell_type": "code",
      "source": [
        "def crawl_id(limit=100,offset=0):\n",
        "    url = 'http://www.wanted.jobs/api/v4/jobs?'\n",
        "\n",
        "    params ={1656232918453:'',    #사용자번호?\n",
        "    'country': 'all',\n",
        "    'tag_type_ids': 873,    #직무 카테고리 고유 id\n",
        "    'job_sort': 'job.latest_order',    #최신순 정렬\n",
        "    'locations': all,\n",
        "    'years': -1,    #경력 이상\n",
        "    'years': -1,    #경력 이하    경력상관없이 검색하려면 -1\n",
        "    'limit': limit,    #한 번에 조회 가능한 수 (최대100)\n",
        "    'offset': offset}    #조회할 게시물의 첫 index        ex) limit=100 offset=10  => 10번게시물부터 110번게시물까지 크롤링\n",
        "\n",
        "    #서버에 url과 쿼리로 요청\n",
        "    r = requests.get(url,\n",
        "                     params = params)\n",
        "    #요청한 데이터 json포멧으로 변환\n",
        "    r = r.json()\n",
        "    #json포멧 데이터중 id컬럼만 추출\n",
        "    id_list = [i['id'] for i in r['data']]\n",
        "    return id_list\n",
        "\n",
        "def return_id_list():\n",
        "    '''\n",
        "    0번째 게시물부터 100개씩 크롤링 while true\n",
        "    오류발생! => ex) 총 게시물이 321개인데 300개 크롤링 후 다음100개를 크롤링하려했기때문\n",
        "    따라서 재귀호출을 통해 크롤링 수를 100개씩 -> 오류발생! -> 10개씩 -> 오류발생! -> 1개씩 크롤링하는 함수구현\n",
        "    만약 게시물이 321개라면 300개 크롤링 -> 20개 크롤링 - 1개 크롤링 return\n",
        "    '''\n",
        "    id_list=[]\n",
        "    def crawl_all_id(limit=100,offset=0):\n",
        "        try:\n",
        "            while True:\n",
        "                id_list.extend(crawl_id(limit,offset))\n",
        "                offset+=limit\n",
        "        except:\n",
        "            if limit != 1:\n",
        "                return crawl_all_id(limit/10,offset)\n",
        "    crawl_all_id()\n",
        "    return id_list\n",
        "\n",
        "\n",
        "def crawl_job(id_list):\n",
        "    df = pd.DataFrame()\n",
        "\n",
        "    \n",
        "    for id in id_list:\n",
        "        url = f'https://www.wanted.jobs/api/v4/jobs/{id}?1656259528432'\n",
        "        r = requests.get(url)\n",
        "        r = r.json()['job']\n",
        "\n",
        "        #1개의 게시물 크롤링할때마다 데이터프레임에 concat    -df.append()보다 빠르다고함\n",
        "        df = pd.concat([df,pd.json_normalize(r)],axis=0)\n",
        "\n",
        "    #단일 게시물을 크롤링해서 concat하다보니 index가 모두 0이므로 reset_index\n",
        "    return df.reset_index(drop=True)\n",
        "\n",
        "\n",
        "def engineering(df):\n",
        "    drop_col = []\n",
        "    df = df.drop(drop_col,axis=1)\n",
        "    return df"
      ],
      "metadata": {
        "id": "U4JwVd4Jc_hW"
      },
      "execution_count": 88,
      "outputs": []
    },
    {
      "cell_type": "code",
      "source": [
        "id_list = return_id_list()\n",
        "\n",
        "df_job = crawl_job(id_list)\n",
        "\n",
        "df = engineering(df_job)\n",
        "\n",
        "df.shape"
      ],
      "metadata": {
        "id": "6EBYpS6xpZaF"
      },
      "execution_count": null,
      "outputs": []
    },
    {
      "cell_type": "code",
      "source": [
        "df.to_excel('wanted.xlsx')"
      ],
      "metadata": {
        "id": "pKVxOi_0tIvJ"
      },
      "execution_count": null,
      "outputs": []
    },
    {
      "cell_type": "markdown",
      "source": [
        "#폐기"
      ],
      "metadata": {
        "id": "cVQ7T2ormm5U"
      }
    },
    {
      "cell_type": "code",
      "source": [
        "def make_soup(url):\n",
        "    response = requests.get(url)\n",
        "    html = response.text\n",
        "    soup = BeautifulSoup(html, 'html.parser')\n",
        "    return soup\n",
        "url = 'https://www.wanted.jobs/wd/109904'\n",
        "\n",
        "soup = str(make_soup(url))\n",
        "\n",
        "url_list = ['https://www.wanted.jobs/wd/'+ str(i) for i in df['id']]\n",
        "\n",
        "#서론\n",
        "Introduction = soup[soup.find('\"jd\":\"') + 6 : soup.find('\\\\n\\\\n\\\\n주요업무\\\\n')]\n",
        "\n",
        "#주요업무, 책임\n",
        "responsibilities = soup[soup.find('\\\\n\\\\n\\\\n주요업무\\\\n') + 12 : soup.find('\\\\n\\\\n자격요건\\\\n')]\n",
        "\n",
        "#요구자격\n",
        "basic_qualifications = soup[soup.find('\\\\n\\\\n자격요건\\\\n') + 12 : soup.find('\\\\n\\\\n우대사항\\\\n')]\n",
        "\n",
        "#우대자격\n",
        "preferred_qualifications = soup[soup.find('\\\\n\\\\n우대사항\\\\n') + 10 : soup.find('\\\\n\\\\n혜택 및 복지\\\\n###')]\n",
        "\n",
        "#복지\n",
        "company_benefits = soup[soup.find('\\\\n\\\\n혜택 및 복지\\\\n###') + 16 : soup.find('\",\"company_name\":\"')]\n",
        "\n",
        "pd.DataFrame({'Introduction':Introduction,\n",
        "              'responsibilities':responsibilities,\n",
        "              'basic_qualifications':basic_qualifications,\n",
        "              'preferred_qualifications':preferred_qualifications,\n",
        "              'company_benefits':company_benefits},index=[0])"
      ],
      "metadata": {
        "colab": {
          "base_uri": "https://localhost:8080/",
          "height": 142
        },
        "id": "s4wiKCu5dFQo",
        "outputId": "5c203b1f-8804-4f3f-f6f1-306878fb83fc"
      },
      "execution_count": null,
      "outputs": [
        {
          "output_type": "execute_result",
          "data": {
            "text/plain": [
              "                                        Introduction  \\\n",
              "0  빌리오(BIllyo)\\n#크리에이터의 고민 해결!\\n콘텐츠 제작 커뮤니티, ‘빌리오...   \n",
              "\n",
              "                                    responsibilities  \\\n",
              "0  [주요 업무]\\n- 빌리오(Billyo) 모바일 서비스를 위한 API 개발 및 유지...   \n",
              "\n",
              "                                basic_qualifications  \\\n",
              "0  Python 기반 Restful API 설계 및 구현 경험이 3년 이상 있으시거나 ...   \n",
              "\n",
              "                            preferred_qualifications  \\\n",
              "0  - O2O 플랫폼 비즈니스에 대한 흥미와 관심이 있는 분\\n- 크리에이터 시장에 관...   \n",
              "\n",
              "                                    company_benefits  \n",
              "0   이런 게 좋아요!\\n빌리오 팀원들은 함께하는 동료를 소중히 여기며, 함께 성장하면...  "
            ],
            "text/html": [
              "\n",
              "  <div id=\"df-c7dc7d4e-041b-437c-99af-0d03ec54912c\">\n",
              "    <div class=\"colab-df-container\">\n",
              "      <div>\n",
              "<style scoped>\n",
              "    .dataframe tbody tr th:only-of-type {\n",
              "        vertical-align: middle;\n",
              "    }\n",
              "\n",
              "    .dataframe tbody tr th {\n",
              "        vertical-align: top;\n",
              "    }\n",
              "\n",
              "    .dataframe thead th {\n",
              "        text-align: right;\n",
              "    }\n",
              "</style>\n",
              "<table border=\"1\" class=\"dataframe\">\n",
              "  <thead>\n",
              "    <tr style=\"text-align: right;\">\n",
              "      <th></th>\n",
              "      <th>Introduction</th>\n",
              "      <th>responsibilities</th>\n",
              "      <th>basic_qualifications</th>\n",
              "      <th>preferred_qualifications</th>\n",
              "      <th>company_benefits</th>\n",
              "    </tr>\n",
              "  </thead>\n",
              "  <tbody>\n",
              "    <tr>\n",
              "      <th>0</th>\n",
              "      <td>빌리오(BIllyo)\\n#크리에이터의 고민 해결!\\n콘텐츠 제작 커뮤니티, ‘빌리오...</td>\n",
              "      <td>[주요 업무]\\n- 빌리오(Billyo) 모바일 서비스를 위한 API 개발 및 유지...</td>\n",
              "      <td>Python 기반 Restful API 설계 및 구현 경험이 3년 이상 있으시거나 ...</td>\n",
              "      <td>- O2O 플랫폼 비즈니스에 대한 흥미와 관심이 있는 분\\n- 크리에이터 시장에 관...</td>\n",
              "      <td>이런 게 좋아요!\\n빌리오 팀원들은 함께하는 동료를 소중히 여기며, 함께 성장하면...</td>\n",
              "    </tr>\n",
              "  </tbody>\n",
              "</table>\n",
              "</div>\n",
              "      <button class=\"colab-df-convert\" onclick=\"convertToInteractive('df-c7dc7d4e-041b-437c-99af-0d03ec54912c')\"\n",
              "              title=\"Convert this dataframe to an interactive table.\"\n",
              "              style=\"display:none;\">\n",
              "        \n",
              "  <svg xmlns=\"http://www.w3.org/2000/svg\" height=\"24px\"viewBox=\"0 0 24 24\"\n",
              "       width=\"24px\">\n",
              "    <path d=\"M0 0h24v24H0V0z\" fill=\"none\"/>\n",
              "    <path d=\"M18.56 5.44l.94 2.06.94-2.06 2.06-.94-2.06-.94-.94-2.06-.94 2.06-2.06.94zm-11 1L8.5 8.5l.94-2.06 2.06-.94-2.06-.94L8.5 2.5l-.94 2.06-2.06.94zm10 10l.94 2.06.94-2.06 2.06-.94-2.06-.94-.94-2.06-.94 2.06-2.06.94z\"/><path d=\"M17.41 7.96l-1.37-1.37c-.4-.4-.92-.59-1.43-.59-.52 0-1.04.2-1.43.59L10.3 9.45l-7.72 7.72c-.78.78-.78 2.05 0 2.83L4 21.41c.39.39.9.59 1.41.59.51 0 1.02-.2 1.41-.59l7.78-7.78 2.81-2.81c.8-.78.8-2.07 0-2.86zM5.41 20L4 18.59l7.72-7.72 1.47 1.35L5.41 20z\"/>\n",
              "  </svg>\n",
              "      </button>\n",
              "      \n",
              "  <style>\n",
              "    .colab-df-container {\n",
              "      display:flex;\n",
              "      flex-wrap:wrap;\n",
              "      gap: 12px;\n",
              "    }\n",
              "\n",
              "    .colab-df-convert {\n",
              "      background-color: #E8F0FE;\n",
              "      border: none;\n",
              "      border-radius: 50%;\n",
              "      cursor: pointer;\n",
              "      display: none;\n",
              "      fill: #1967D2;\n",
              "      height: 32px;\n",
              "      padding: 0 0 0 0;\n",
              "      width: 32px;\n",
              "    }\n",
              "\n",
              "    .colab-df-convert:hover {\n",
              "      background-color: #E2EBFA;\n",
              "      box-shadow: 0px 1px 2px rgba(60, 64, 67, 0.3), 0px 1px 3px 1px rgba(60, 64, 67, 0.15);\n",
              "      fill: #174EA6;\n",
              "    }\n",
              "\n",
              "    [theme=dark] .colab-df-convert {\n",
              "      background-color: #3B4455;\n",
              "      fill: #D2E3FC;\n",
              "    }\n",
              "\n",
              "    [theme=dark] .colab-df-convert:hover {\n",
              "      background-color: #434B5C;\n",
              "      box-shadow: 0px 1px 3px 1px rgba(0, 0, 0, 0.15);\n",
              "      filter: drop-shadow(0px 1px 2px rgba(0, 0, 0, 0.3));\n",
              "      fill: #FFFFFF;\n",
              "    }\n",
              "  </style>\n",
              "\n",
              "      <script>\n",
              "        const buttonEl =\n",
              "          document.querySelector('#df-c7dc7d4e-041b-437c-99af-0d03ec54912c button.colab-df-convert');\n",
              "        buttonEl.style.display =\n",
              "          google.colab.kernel.accessAllowed ? 'block' : 'none';\n",
              "\n",
              "        async function convertToInteractive(key) {\n",
              "          const element = document.querySelector('#df-c7dc7d4e-041b-437c-99af-0d03ec54912c');\n",
              "          const dataTable =\n",
              "            await google.colab.kernel.invokeFunction('convertToInteractive',\n",
              "                                                     [key], {});\n",
              "          if (!dataTable) return;\n",
              "\n",
              "          const docLinkHtml = 'Like what you see? Visit the ' +\n",
              "            '<a target=\"_blank\" href=https://colab.research.google.com/notebooks/data_table.ipynb>data table notebook</a>'\n",
              "            + ' to learn more about interactive tables.';\n",
              "          element.innerHTML = '';\n",
              "          dataTable['output_type'] = 'display_data';\n",
              "          await google.colab.output.renderOutput(dataTable, element);\n",
              "          const docLink = document.createElement('div');\n",
              "          docLink.innerHTML = docLinkHtml;\n",
              "          element.appendChild(docLink);\n",
              "        }\n",
              "      </script>\n",
              "    </div>\n",
              "  </div>\n",
              "  "
            ]
          },
          "metadata": {},
          "execution_count": 204
        }
      ]
    },
    {
      "cell_type": "code",
      "source": [
        ""
      ],
      "metadata": {
        "id": "jzxqV7lJ4wKY"
      },
      "execution_count": null,
      "outputs": []
    }
  ]
}